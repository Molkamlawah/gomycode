{
 "cells": [
  {
   "cell_type": "code",
   "execution_count": null,
   "id": "04c1eb09",
   "metadata": {},
   "outputs": [
    {
     "name": "stdout",
     "output_type": "stream",
     "text": [
      "enter the first number:10\n",
      "enter the second number:5\n",
      "enter the operator(+,-,*,/): *\n",
      "the result is: 50.0\n",
      "Do you want to perform another calculation ? (yes/no):yes\n",
      "enter the first number:85\n",
      "enter the second number:69\n",
      "enter the operator(+,-,*,/): *\n",
      "the result is: 5865.0\n"
     ]
    }
   ],
   "source": [
    "while True:\n",
    "    try:\n",
    "        num1 = float(input(\"enter the first number:\"))\n",
    "        num2 = float(input(\"enter the second number:\"))\n",
    "        operator = input(\"enter the operator(+,-,*,/): \")\n",
    "        if operator == '+':\n",
    "            result = num1 + num2\n",
    "        elif operator == '-':\n",
    "            result = num1 - num2\n",
    "        elif operator == '*':\n",
    "            result = num1 * num2\n",
    "        elif operator == '/':\n",
    "            if num2 == 0:\n",
    "                print(\"Cannot divide by zero\")\n",
    "                continue\n",
    "            result = num1 / num2\n",
    "        else:\n",
    "            print(\"Invalid operator\")\n",
    "            continue\n",
    "        print(\"the result is:\",result)\n",
    "    except ValueError:\n",
    "        print(\"Invalid input. Please enter valid numbers.\")\n",
    "    continue_calculation = input(\"Do you want to perform another calculation ? (yes/no):\")\n",
    "    if continue_calculation.lower() !=\"yes\":\n",
    "        print(\"goodbye\")\n",
    "        break"
   ]
  },
  {
   "cell_type": "code",
   "execution_count": null,
   "id": "bd781a14",
   "metadata": {},
   "outputs": [],
   "source": []
  },
  {
   "cell_type": "code",
   "execution_count": null,
   "id": "8e58644b",
   "metadata": {},
   "outputs": [],
   "source": []
  }
 ],
 "metadata": {
  "kernelspec": {
   "display_name": "Python 3 (ipykernel)",
   "language": "python",
   "name": "python3"
  },
  "language_info": {
   "codemirror_mode": {
    "name": "ipython",
    "version": 3
   },
   "file_extension": ".py",
   "mimetype": "text/x-python",
   "name": "python",
   "nbconvert_exporter": "python",
   "pygments_lexer": "ipython3",
   "version": "3.10.9"
  }
 },
 "nbformat": 4,
 "nbformat_minor": 5
}
