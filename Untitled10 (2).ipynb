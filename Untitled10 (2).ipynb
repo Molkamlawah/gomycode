{
 "cells": [
  {
   "cell_type": "code",
   "execution_count": null,
   "id": "263b1f9b",
   "metadata": {},
   "outputs": [],
   "source": [
    "def add(x,y):\n",
    "   return x+y\n",
    "\n",
    "def substract(x,y):\n",
    "   return x-y\n",
    "\n",
    "def multiply(x,y):\n",
    "    return x*y\n",
    "\n",
    "def divide(x,y):\n",
    "    if y==0:\n",
    "       return \"Cannot divide by zero\"\n",
    "    return x/y\n",
    "\n",
    "def calculator():\n",
    "    num1 = float(input(\"enter the first number:\"))\n",
    "    num2 = float(input(\"enter the second number:\"))\n",
    "    operator = input(\"enter the operator(+,-,*,/):\")\n",
    "                     \n",
    "    if operator == '+':\n",
    "            result = add(num1,num2)\n",
    "    elif operator == '-':\n",
    "            result = substract(num1,num2)\n",
    "    elif operator == '*':\n",
    "            result = multiply(num1,num2)\n",
    "    elif operator == '/':\n",
    "            result = divide(num1,num2)\n",
    "    else:\n",
    "            result = \"Invalid operator\"\n",
    "                     \n",
    "    print(\"The result is:\",result)\n",
    "                     \n",
    "while True:\n",
    "    calculator() # Call the calculator function with two numbers and print the result\n",
    "                     \n",
    "    continue_calculation = input(\"Do you want to perform another calculation ? (yes/no):\")\n",
    "    if continue_calculation.lower() !=\"yes\":\n",
    "        print(\"goodbye\")\n",
    "        break                 "
   ]
  },
  {
   "cell_type": "code",
   "execution_count": null,
   "id": "5aafb8b8",
   "metadata": {},
   "outputs": [],
   "source": []
  }
 ],
 "metadata": {
  "kernelspec": {
   "display_name": "Python 3 (ipykernel)",
   "language": "python",
   "name": "python3"
  },
  "language_info": {
   "codemirror_mode": {
    "name": "ipython",
    "version": 3
   },
   "file_extension": ".py",
   "mimetype": "text/x-python",
   "name": "python",
   "nbconvert_exporter": "python",
   "pygments_lexer": "ipython3",
   "version": "3.10.9"
  }
 },
 "nbformat": 4,
 "nbformat_minor": 5
}
