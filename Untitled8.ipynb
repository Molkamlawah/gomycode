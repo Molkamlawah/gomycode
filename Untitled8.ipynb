{
 "cells": [
  {
   "cell_type": "code",
   "execution_count": 8,
   "id": "17c95a6a",
   "metadata": {},
   "outputs": [
    {
     "name": "stdout",
     "output_type": "stream",
     "text": [
      "Result: 120\n"
     ]
    }
   ],
   "source": [
    "def multiply_list_items(lst):\n",
    "    result = 1\n",
    "    for items in lst:\n",
    "        result *= items\n",
    "    return result \n",
    "# Example list \n",
    "my_list = [2,3,4,5]\n",
    "result = multiply_list_items(my_list)\n",
    "print(\"Result:\",result)\n"
   ]
  },
  {
   "cell_type": "code",
   "execution_count": 21,
   "id": "863b5028",
   "metadata": {},
   "outputs": [
    {
     "name": "stdout",
     "output_type": "stream",
     "text": [
      "Sorted Tuples: [(2, 1), (1, 2), (2, 3), (4, 4), (2, 5)]\n"
     ]
    }
   ],
   "source": [
    "def sort_by_last_element(tuples_list):\n",
    "    tuples_list.sort(key=lambda  x:x[-1])\n",
    "    return tuples_list\n",
    "\n",
    "#Example list of tuples \n",
    "my_tuples = [(2,5),(1,2),(4,4),(2,3),(2,1)]\n",
    "\n",
    "sorted_tuples = sort_by_last_element(my_tuples)\n",
    "print(\"Sorted Tuples:\",sorted_tuples)\n",
    "    "
   ]
  },
  {
   "cell_type": "code",
   "execution_count": 30,
   "id": "b14bee3e",
   "metadata": {},
   "outputs": [
    {
     "name": "stdout",
     "output_type": "stream",
     "text": [
      "combined_dict= {'a': 400, 'b': 400, 'c': 300, 'd': 400}\n"
     ]
    }
   ],
   "source": [
    "def combine_dictionaries(dic1,dic2):\n",
    "    combined_dict = dict1.copy()\n",
    "    \n",
    "    for key,value in dict2.items():\n",
    "        if key in combined_dict:\n",
    "            combined_dict[key]+=value \n",
    "        else:\n",
    "            combined_dict[key]=value\n",
    "    return combined_dict\n",
    "dict1={\"a\":100,\"b\":200,\"c\":300}\n",
    "dict2={\"a\":300,\"b\":200,\"d\":400}\n",
    "\n",
    "combined_dict=combine_dictionaries(dict1,dict2)\n",
    "print(\"combined_dict=\",combined_dict)"
   ]
  },
  {
   "cell_type": "code",
   "execution_count": null,
   "id": "24ced933",
   "metadata": {},
   "outputs": [],
   "source": []
  },
  {
   "cell_type": "code",
   "execution_count": 33,
   "id": "32fce06d",
   "metadata": {},
   "outputs": [
    {
     "name": "stdout",
     "output_type": "stream",
     "text": [
      "Enter a number:8\n",
      "{1: 1, 2: 4, 3: 9, 4: 16, 5: 25, 6: 36, 7: 49, 8: 64}\n"
     ]
    }
   ],
   "source": [
    "def generate_square_dict(n):\n",
    "    square_dict = {}\n",
    "    for i in range(1,n+1):\n",
    "        square_dict[i]=i*i\n",
    "    return square_dict\n",
    "\n",
    "n=int(input(\"Enter a number:\"))\n",
    "result_dict=generate_square_dict(n)\n",
    "print(result_dict)"
   ]
  },
  {
   "cell_type": "code",
   "execution_count": 35,
   "id": "8df2632a",
   "metadata": {},
   "outputs": [
    {
     "name": "stdout",
     "output_type": "stream",
     "text": [
      "[('item1', 12.2), ('item2', 15.1), ('item3', 24.5)]\n"
     ]
    }
   ],
   "source": [
    "def sort_tuples_by_float(tuples_list):\n",
    "    sorted_tuples=sorted(tuples_list,key=lambda x:x[1])\n",
    "    return sorted_tuples\n",
    "\n",
    "#Example usage \n",
    "tuples_list=[(\"item1\",12.20),(\"item2\",15.10),(\"item3\",24.5)]\n",
    "sorted_list=sort_tuples_by_float(tuples_list)\n",
    "print(sorted_list)"
   ]
  },
  {
   "cell_type": "code",
   "execution_count": 36,
   "id": "3d0bd50c",
   "metadata": {},
   "outputs": [
    {
     "name": "stdout",
     "output_type": "stream",
     "text": [
      "{0, 1, 2, 3, 4}\n"
     ]
    }
   ],
   "source": [
    "#Creating a set \n",
    "my_set = {0,1,2,3,4}\n",
    "print(my_set)"
   ]
  },
  {
   "cell_type": "code",
   "execution_count": 37,
   "id": "582a3e08",
   "metadata": {},
   "outputs": [
    {
     "name": "stdout",
     "output_type": "stream",
     "text": [
      "0\n",
      "1\n",
      "2\n",
      "3\n",
      "4\n"
     ]
    }
   ],
   "source": [
    "#Creating a set \n",
    "my_set = {0,1,2,3,4}\n",
    "\n",
    "#Iterating over the set \n",
    "for item in my_set:\n",
    "    print(item)"
   ]
  },
  {
   "cell_type": "code",
   "execution_count": 39,
   "id": "26443167",
   "metadata": {},
   "outputs": [
    {
     "name": "stdout",
     "output_type": "stream",
     "text": [
      "Initial Set: {0, 1, 2, 3, 4}\n",
      "After Adding: {0, 1, 2, 3, 4, 5, 6}\n",
      "After Removing: {0, 1, 4, 5, 6}\n"
     ]
    }
   ],
   "source": [
    "#Creating an initial set \n",
    "my_set = {0,1,2,3,4}\n",
    "print(\"Initial Set:\",my_set)\n",
    "\n",
    "#Adding members to the set \n",
    "my_set.add(5)\n",
    "my_set.add(6)\n",
    "print(\"After Adding:\", my_set)\n",
    "\n",
    "#Removing items from the set \n",
    "my_set.remove(2)\n",
    "my_set.discard(3)\n",
    "print(\"After Removing:\", my_set)"
   ]
  },
  {
   "cell_type": "code",
   "execution_count": null,
   "id": "3a1177f9",
   "metadata": {},
   "outputs": [],
   "source": []
  }
 ],
 "metadata": {
  "kernelspec": {
   "display_name": "Python 3 (ipykernel)",
   "language": "python",
   "name": "python3"
  },
  "language_info": {
   "codemirror_mode": {
    "name": "ipython",
    "version": 3
   },
   "file_extension": ".py",
   "mimetype": "text/x-python",
   "name": "python",
   "nbconvert_exporter": "python",
   "pygments_lexer": "ipython3",
   "version": "3.10.9"
  }
 },
 "nbformat": 4,
 "nbformat_minor": 5
}
