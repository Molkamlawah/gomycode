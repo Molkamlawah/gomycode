{
 "cells": [
  {
   "cell_type": "code",
   "execution_count": null,
   "id": "276c332f",
   "metadata": {},
   "outputs": [],
   "source": [
    "import tkinter as tk\n",
    "from tkinter import messagebox\n",
    "\n",
    "# Étape 1: Définition de la fonction checker avec un paramètre digit.\n",
    "def checker(digit):\n",
    "#Étape 2:Inside the function, declare the variables count, mark, and digits as global variables\n",
    "    global count, mark, digits\n",
    "    \n",
    "    # Étape 4: Vérification de la correspondance de digit avec la liste digits.\n",
    "    if digit in digits:\n",
    "        digits.remove(digit)  # Suppression du digit de la liste digits.\n",
    "        \n",
    "        # Étape 6: Détermination du symbole ('X' ou 'O') en fonction du nombre de coups.\n",
    "        mark = 'X' if count % 2 == 0 else 'O'\n",
    "        \n",
    "        # Mise à jour du bouton correspondant sur le plateau avec le symbole actuel.\n",
    "        buttons[digit-1]['text'] = mark\n",
    "        \n",
    "        # Étape 8: Incrément du compteur de coups.\n",
    "        count += 1\n",
    "        \n",
    "        # Étape 9: Vérification si le joueur actuel a gagné.\n",
    "        if win(mark):\n",
    "            messagebox.showinfo(\"Fin de partie\", f\"Joueur {mark} gagne!\")\n",
    "            root.destroy()  # Fermeture de la fenêtre du jeu.\n",
    "            for digit in range(2,10):\n",
    "                checker(digit)\n",
    "        \n",
    "        # Étape 12: Vérification si la partie est un match nul.\n",
    "        elif count > 8:\n",
    "            messagebox.showinfo(\"Fin de partie\", \"Match nul\")\n",
    "            root.destroy()  # Fermeture de la fenêtre du jeu, ainsi fin de la partie.\n",
    "\n",
    "# Étape 3: Initialisation des variables globales.\n",
    "count = 0  # Compteur de coups\n",
    "mark = 'X'  # Symbole du joueur actuel\n",
    "digits = list(range(1, 10))  # Liste des digits restants\n",
    "\n",
    "# Étape 9: Définition de la fonction win pour vérifier si un joueur a gagné.\n",
    "def win(player):\n",
    "    # Logique pour vérifier les conditions de victoire\n",
    "    return False  # À implémenter\n",
    "\n",
    "# Création de la fenêtre du jeu.\n",
    "root = tk.Tk()\n",
    "root.title(\"Tic-Tac-Toe\")\n",
    "\n",
    "# Création des boutons sur le plateau de jeu.\n",
    "buttons = []\n",
    "for i in range(1, 10):\n",
    "    button = tk.Button(root, text=\"\", width=10, height=3, command=lambda i=i: checker(i))\n",
    "    button.grid(row=(i-1)//3, column=(i-1)%3)\n",
    "    buttons.append(button)\n",
    "\n",
    "# Lancement de la boucle principale.\n",
    "root.mainloop()"
   ]
  },
  {
   "cell_type": "code",
   "execution_count": null,
   "id": "514ed8cf",
   "metadata": {},
   "outputs": [],
   "source": []
  },
  {
   "cell_type": "code",
   "execution_count": null,
   "id": "9b029a60",
   "metadata": {},
   "outputs": [],
   "source": []
  },
  {
   "cell_type": "code",
   "execution_count": null,
   "id": "a838cdab",
   "metadata": {},
   "outputs": [],
   "source": []
  },
  {
   "cell_type": "code",
   "execution_count": null,
   "id": "9c9cff1e",
   "metadata": {},
   "outputs": [],
   "source": []
  },
  {
   "cell_type": "code",
   "execution_count": null,
   "id": "dd3f49f0",
   "metadata": {},
   "outputs": [],
   "source": []
  },
  {
   "cell_type": "code",
   "execution_count": null,
   "id": "513b94e3",
   "metadata": {},
   "outputs": [],
   "source": []
  },
  {
   "cell_type": "code",
   "execution_count": null,
   "id": "488162c2",
   "metadata": {},
   "outputs": [],
   "source": []
  }
 ],
 "metadata": {
  "kernelspec": {
   "display_name": "Python 3 (ipykernel)",
   "language": "python",
   "name": "python3"
  },
  "language_info": {
   "codemirror_mode": {
    "name": "ipython",
    "version": 3
   },
   "file_extension": ".py",
   "mimetype": "text/x-python",
   "name": "python",
   "nbconvert_exporter": "python",
   "pygments_lexer": "ipython3",
   "version": "3.11.4"
  }
 },
 "nbformat": 4,
 "nbformat_minor": 5
}
