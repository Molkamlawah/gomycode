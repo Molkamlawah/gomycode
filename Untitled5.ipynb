{
 "cells": [
  {
   "cell_type": "code",
   "execution_count": 3,
   "id": "1d8f0ff8",
   "metadata": {},
   "outputs": [
    {
     "name": "stdout",
     "output_type": "stream",
     "text": [
      "deviner un entier entre 1 et 100:45\n",
      "too low\n",
      "deviner un entier entre 1 et 100:12\n",
      "too low\n",
      "deviner un entier entre 1 et 100:89\n",
      "too high\n",
      "deviner un entier entre 1 et 100:37\n",
      "too low\n",
      "deviner un entier entre 1 et 100:70\n",
      "too low\n",
      "deviner un entier entre 1 et 100:20\n",
      "too low\n",
      "deviner un entier entre 1 et 100:41\n",
      "too low\n",
      "deviner un entier entre 1 et 100:50\n",
      "too low\n",
      "deviner un entier entre 1 et 100:60\n",
      "too low\n",
      "deviner un entier entre 1 et 100:70\n",
      "too low\n",
      "deviner un entier entre 1 et 100:80\n",
      "correct\n"
     ]
    }
   ],
   "source": [
    "from random import*\n",
    "n=randint(1,100)\n",
    "#print(n)\n",
    "x=int(input(\"deviner un entier entre 1 et 100:\"))\n",
    "while x!=n:\n",
    "    if (x>n):\n",
    "        print(\"too high\")\n",
    "    elif (x<n):\n",
    "        print('too low')\n",
    "    \n",
    "    \n",
    "    x=int(input(\"deviner un entier entre 1 et 100:\"))\n",
    "print(\"correct\")\n",
    "    "
   ]
  },
  {
   "cell_type": "code",
   "execution_count": null,
   "id": "e51a7866",
   "metadata": {},
   "outputs": [],
   "source": []
  },
  {
   "cell_type": "code",
   "execution_count": null,
   "id": "25e0f0fd",
   "metadata": {},
   "outputs": [],
   "source": []
  }
 ],
 "metadata": {
  "kernelspec": {
   "display_name": "Python 3 (ipykernel)",
   "language": "python",
   "name": "python3"
  },
  "language_info": {
   "codemirror_mode": {
    "name": "ipython",
    "version": 3
   },
   "file_extension": ".py",
   "mimetype": "text/x-python",
   "name": "python",
   "nbconvert_exporter": "python",
   "pygments_lexer": "ipython3",
   "version": "3.10.9"
  }
 },
 "nbformat": 4,
 "nbformat_minor": 5
}
