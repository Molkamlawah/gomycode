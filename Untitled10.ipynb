{
 "cells": [
  {
   "cell_type": "code",
   "execution_count": null,
   "id": "630c6a71",
   "metadata": {},
   "outputs": [],
   "source": [
    "# Import the necessary libraries\n",
    "import tkinter as tk\n",
    "import tkinter.messagebox\n",
    "\n",
    "# Create a Tkinter window with the title \"TIC-TAC-TOE\"\n",
    "window = tk.Tk()\n",
    "window.title(\"TIC-TAC-TOE\")\n",
    "\n",
    "# Define a list called \"digits\" with the numbers 1 to 9 to represent the available positions on the game board\n",
    "digits = [1, 2, 3, 4, 5, 6, 7, 8, 9]\n",
    "\n",
    "# Initialize the \"mark\" variable to an empty string (\"\")\n",
    "mark = \"\"\n",
    "\n",
    "# Set the \"count\" variable to 0 to keep track of the number of moves\n",
    "count = 0\n",
    "\n",
    "# Create a list called \"panels\" with 10 elements, where the first element is a placeholder ('panel') and the rest represent the game board positions\n",
    "panels = ['panel', '', '', '', '', '', '', '', '', '']\n",
    "\n",
    "# Code to run the Tkinter window\n",
    "window.mainloop()"
   ]
  },
  {
   "cell_type": "code",
   "execution_count": null,
   "id": "875f2842",
   "metadata": {},
   "outputs": [],
   "source": []
  },
  {
   "cell_type": "code",
   "execution_count": null,
   "id": "1a0c3654",
   "metadata": {},
   "outputs": [],
   "source": []
  }
 ],
 "metadata": {
  "kernelspec": {
   "display_name": "Python 3 (ipykernel)",
   "language": "python",
   "name": "python3"
  },
  "language_info": {
   "codemirror_mode": {
    "name": "ipython",
    "version": 3
   },
   "file_extension": ".py",
   "mimetype": "text/x-python",
   "name": "python",
   "nbconvert_exporter": "python",
   "pygments_lexer": "ipython3",
   "version": "3.11.4"
  }
 },
 "nbformat": 4,
 "nbformat_minor": 5
}
