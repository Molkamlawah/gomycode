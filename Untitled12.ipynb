{
 "cells": [
  {
   "cell_type": "code",
   "execution_count": 12,
   "id": "7ca1fecb",
   "metadata": {
    "scrolled": true
   },
   "outputs": [
    {
     "ename": "NameError",
     "evalue": "name 'self' is not defined",
     "output_type": "error",
     "traceback": [
      "\u001b[1;31m---------------------------------------------------------------------------\u001b[0m",
      "\u001b[1;31mNameError\u001b[0m                                 Traceback (most recent call last)",
      "Cell \u001b[1;32mIn[12], line 1\u001b[0m\n\u001b[1;32m----> 1\u001b[0m label \u001b[38;5;241m=\u001b[39m tk\u001b[38;5;241m.\u001b[39mLabel(\u001b[38;5;28mself\u001b[39m\u001b[38;5;241m.\u001b[39mwindow, text\u001b[38;5;241m=\u001b[39m\u001b[38;5;124m\"\u001b[39m\u001b[38;5;124m\"\u001b[39m, font\u001b[38;5;241m=\u001b[39m(\u001b[38;5;124m\"\u001b[39m\u001b[38;5;124mHelvetica\u001b[39m\u001b[38;5;124m\"\u001b[39m, \u001b[38;5;241m24\u001b[39m))\n\u001b[0;32m      2\u001b[0m button \u001b[38;5;241m=\u001b[39m tk\u001b[38;5;241m.\u001b[39mButton(\u001b[38;5;28mself\u001b[39m\u001b[38;5;241m.\u001b[39mwindow, text\u001b[38;5;241m=\u001b[39m\u001b[38;5;124m\"\u001b[39m\u001b[38;5;124m\"\u001b[39m, font\u001b[38;5;241m=\u001b[39m(\u001b[38;5;124m\"\u001b[39m\u001b[38;5;124mHelvetica\u001b[39m\u001b[38;5;124m\"\u001b[39m, \u001b[38;5;241m24\u001b[39m), command\u001b[38;5;241m=\u001b[39m\u001b[38;5;28;01mlambda\u001b[39;00m r\u001b[38;5;241m=\u001b[39mi, c\u001b[38;5;241m=\u001b[39mj: \u001b[38;5;28mself\u001b[39m\u001b[38;5;241m.\u001b[39mon_button_click(r, c))\n\u001b[0;32m      3\u001b[0m \u001b[38;5;28;01mdef\u001b[39;00m \u001b[38;5;21mon_button_click\u001b[39m(\u001b[38;5;28mself\u001b[39m, row, col):\n",
      "\u001b[1;31mNameError\u001b[0m: name 'self' is not defined"
     ]
    }
   ],
   "source": [
    "label = tk.Label(self.window, text=\"\", font=(\"Helvetica\", 24))\n",
    "button = tk.Button(self.window, text=\"\", font=(\"Helvetica\", 24), command=lambda r=i, c=j: self.on_button_click(r, c))\n",
    "def on_button_click(self, row, col):\n",
    "    label.grid(row=i, column=0, padx=10, pady=10)\n",
    "    button.grid(row=i, column=j+1, padx=10, pady=10)\n",
    "    if __name__ == \"__main__\":\n",
    "        game = TicTacToe()\n",
    "        game.run()"
   ]
  },
  {
   "cell_type": "code",
   "execution_count": null,
   "id": "87c09547",
   "metadata": {},
   "outputs": [],
   "source": []
  }
 ],
 "metadata": {
  "kernelspec": {
   "display_name": "Python 3 (ipykernel)",
   "language": "python",
   "name": "python3"
  },
  "language_info": {
   "codemirror_mode": {
    "name": "ipython",
    "version": 3
   },
   "file_extension": ".py",
   "mimetype": "text/x-python",
   "name": "python",
   "nbconvert_exporter": "python",
   "pygments_lexer": "ipython3",
   "version": "3.11.4"
  }
 },
 "nbformat": 4,
 "nbformat_minor": 5
}
